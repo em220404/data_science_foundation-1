{
 "cells": [
  {
   "cell_type": "code",
   "execution_count": 2,
   "metadata": {},
   "outputs": [],
   "source": [
    "import pandas as pd\n",
    "import numpy as np"
   ]
  },
  {
   "cell_type": "markdown",
   "metadata": {},
   "source": [
    "## Python Basics"
   ]
  },
  {
   "cell_type": "markdown",
   "metadata": {},
   "source": [
    "### Ranges and Arrays\n",
    "- For creating a series of numbers\n",
    "- `np.arange(start_num, end_num, steps)`"
   ]
  },
  {
   "cell_type": "code",
   "execution_count": 3,
   "metadata": {},
   "outputs": [
    {
     "data": {
      "text/plain": [
       "array([0, 1, 2, 3])"
      ]
     },
     "execution_count": 3,
     "metadata": {},
     "output_type": "execute_result"
    }
   ],
   "source": [
    "lst = [1,2,3,4,5]\n",
    "\n",
    "np.arange(4)"
   ]
  },
  {
   "cell_type": "code",
   "execution_count": null,
   "metadata": {},
   "outputs": [],
   "source": []
  },
  {
   "cell_type": "code",
   "execution_count": null,
   "metadata": {},
   "outputs": [],
   "source": []
  },
  {
   "cell_type": "code",
   "execution_count": null,
   "metadata": {},
   "outputs": [],
   "source": [
    "\"\"\"\n",
    "Try returning:\n",
    "array([5, 10, 15, 20])\n",
    "\"\"\"\n",
    "\n",
    "np.arange(...)"
   ]
  },
  {
   "cell_type": "code",
   "execution_count": null,
   "metadata": {},
   "outputs": [],
   "source": [
    "# Descending array\n"
   ]
  },
  {
   "cell_type": "code",
   "execution_count": null,
   "metadata": {},
   "outputs": [],
   "source": [
    "\"\"\"\n",
    "Try returning:\n",
    "array([10, 7, 4])\n",
    "\"\"\"\n",
    "\n",
    "np.arange(...)"
   ]
  },
  {
   "cell_type": "markdown",
   "metadata": {},
   "source": [
    "### Conditions\n",
    "- Operates by boolean\n",
    "- `if condition == True`:\n",
    "    - `print('yes')`\n",
    "- `else`:\n",
    "    - `print('no')`\n",
    " "
   ]
  },
  {
   "cell_type": "code",
   "execution_count": null,
   "metadata": {},
   "outputs": [],
   "source": []
  },
  {
   "cell_type": "code",
   "execution_count": null,
   "metadata": {},
   "outputs": [],
   "source": []
  },
  {
   "cell_type": "code",
   "execution_count": null,
   "metadata": {},
   "outputs": [],
   "source": [
    "\"\"\"\n",
    "Try returning:\n",
    "if age is between 15 - 17, print middle school student\n",
    "if age is between 18 - 20, print high school student\n",
    "if age is over 20, print adult\n",
    "else, print else\n",
    "\"\"\"\n",
    "\n",
    "age = 18\n",
    "if 15 <= ... <= 17:\n",
    "    print(...)\n",
    "elif ...:\n",
    "    ..."
   ]
  },
  {
   "cell_type": "markdown",
   "metadata": {},
   "source": [
    "### For Loops\n",
    "- For iterating over a series of values and repeating certain calculation\n",
    "- `for i in range(start_num, end_num, steps)`:\n",
    "    - `Execute a function`\n",
    "- by default, `for i in range(0, end_num, 1)`"
   ]
  },
  {
   "cell_type": "code",
   "execution_count": null,
   "metadata": {},
   "outputs": [],
   "source": []
  },
  {
   "cell_type": "code",
   "execution_count": null,
   "metadata": {},
   "outputs": [],
   "source": []
  },
  {
   "cell_type": "code",
   "execution_count": null,
   "metadata": {},
   "outputs": [],
   "source": [
    "# Nested for loop\n",
    "shirt = ['blue', 'purple', 'red']\n",
    "pants = ['green', 'black', 'white']"
   ]
  },
  {
   "cell_type": "code",
   "execution_count": null,
   "metadata": {},
   "outputs": [],
   "source": [
    "\"\"\"\n",
    "Try returning:\n",
    "1 ~ 9단 구구단\n",
    "1 X 1\n",
    "1 X 2\n",
    "1 X 3\n",
    "1 X 4\n",
    "...\n",
    "\"\"\"\n",
    "for i in range(1, 9):\n",
    "    ..."
   ]
  },
  {
   "cell_type": "markdown",
   "metadata": {},
   "source": [
    "Adding elements to an empty list\n",
    "- `lst.append(element)`"
   ]
  },
  {
   "cell_type": "code",
   "execution_count": null,
   "metadata": {},
   "outputs": [],
   "source": [
    "numbers = [0, 61, 7, 8, 109]\n",
    "newnumbers = []\n",
    "...\n",
    "print(newnumbers)"
   ]
  },
  {
   "cell_type": "markdown",
   "metadata": {},
   "source": [
    "Strings\n",
    "- `stringvalue += 'string'`"
   ]
  },
  {
   "cell_type": "code",
   "execution_count": null,
   "metadata": {},
   "outputs": [],
   "source": []
  },
  {
   "cell_type": "code",
   "execution_count": null,
   "metadata": {},
   "outputs": [],
   "source": [
    "\"\"\"\n",
    "Try creating a new array by appending string values\n",
    "Return:\n",
    "['blue shirt', 'purple shirt', 'red shirt']\n",
    "\"\"\"\n",
    "\n",
    "shirts = ['blue', 'purple', 'red']\n",
    "clothes = []\n",
    "\n",
    "for i in ...:\n",
    "    ...\n",
    "    \n",
    "print(clothes)"
   ]
  },
  {
   "cell_type": "markdown",
   "metadata": {},
   "source": [
    "`break`: stop iterating and exit out of for loop \\\n",
    "`continue`: loop back to the beginning of the loop"
   ]
  },
  {
   "cell_type": "code",
   "execution_count": null,
   "metadata": {},
   "outputs": [],
   "source": [
    "lst = ['hi', 'hello', 'bye']\n",
    "for i in lst:\n",
    "    ..."
   ]
  },
  {
   "cell_type": "code",
   "execution_count": null,
   "metadata": {},
   "outputs": [],
   "source": [
    "\"\"\"\n",
    "Try this:\n",
    "Return pass message if a student's mark is over 60 points\n",
    "\"\"\"\n",
    "marks = [90, 25, 67, 45, 80]\n",
    "\n",
    "# student number\n",
    "number = 0 \n",
    "for mark in marks: \n",
    "    number = ...\n",
    "    if mark < 60:\n",
    "        ... \n",
    "    print(\"{}번 학생 축하합니다. 합격입니다. \".format(number))"
   ]
  },
  {
   "cell_type": "markdown",
   "metadata": {},
   "source": [
    "### Dictionaries\n",
    "- Operates under key-value relationship\n",
    "- `dict = {'Jinwoo': 19, 'Emily': 15}`"
   ]
  },
  {
   "cell_type": "code",
   "execution_count": null,
   "metadata": {},
   "outputs": [],
   "source": [
    "a = {'name': 'pey', 'phone': '0119993323', 'birth': '1118'}\n"
   ]
  },
  {
   "cell_type": "code",
   "execution_count": null,
   "metadata": {},
   "outputs": [],
   "source": [
    "# values()"
   ]
  },
  {
   "cell_type": "code",
   "execution_count": null,
   "metadata": {},
   "outputs": [],
   "source": [
    "# items()"
   ]
  },
  {
   "cell_type": "code",
   "execution_count": null,
   "metadata": {},
   "outputs": [],
   "source": [
    "dict = {'Jinwoo': 19, 'Emily': 15}\n",
    "# Iterating over dictionary\n"
   ]
  },
  {
   "cell_type": "markdown",
   "metadata": {},
   "source": [
    "### While Loop\n",
    "- For repeating a function until it reaches certain condition\n",
    "- `while condition:` \n",
    "    - `execute a function`"
   ]
  },
  {
   "cell_type": "code",
   "execution_count": null,
   "metadata": {},
   "outputs": [],
   "source": [
    "count = 10\n"
   ]
  },
  {
   "cell_type": "code",
   "execution_count": null,
   "metadata": {},
   "outputs": [],
   "source": [
    "# watch out for infinite loop!\n"
   ]
  },
  {
   "cell_type": "code",
   "execution_count": null,
   "metadata": {},
   "outputs": [],
   "source": [
    "# break in while loop\n",
    "status = True\n",
    "result = 0\n",
    "\n",
    "...\n",
    "\n",
    "print(result)"
   ]
  },
  {
   "cell_type": "code",
   "execution_count": null,
   "metadata": {},
   "outputs": [],
   "source": [
    "\"\"\"\n",
    "Try implementing \n",
    "If treehit reaches 10, the tree falls\n",
    "Until it reaches 10, print the number of treehits\n",
    "\n",
    "\"\"\"\n",
    "\n",
    "treeHit = 0\n",
    "\n",
    "while treeHit < 10:\n",
    "    treeHit = ...\n",
    "    print(\"나무를 {}d번 찍었습니다.\".format(treeHit)\n",
    "    if ...:\n",
    "        print(\"나무 넘어갑니다.\")"
   ]
  },
  {
   "cell_type": "code",
   "execution_count": null,
   "metadata": {},
   "outputs": [],
   "source": [
    "\"\"\"\n",
    "Try implementing a coffee vending machine\n",
    "Coffee is 300 won.\n",
    "\n",
    "If a person pays 300 won, sell coffee\n",
    "If a person pays less than 300 won, return the money and don't sell coffee\n",
    "If a person pays more than 300 won, sell coffee and return change\n",
    "If coffee is sold out, break while loop and stop selling\n",
    "\n",
    "\"\"\"\n",
    "\n",
    "coffee = 5\n",
    "while True:\n",
    "    money = int(input(\"돈을 넣어 주세요: \"))\n",
    "    if money == 300:\n",
    "        print(\"커피를 줍니다.\")\n",
    "        coffee = ...\n",
    "    elif ...:\n",
    "        print(\"거스름돈 {}d를 주고 커피를 줍니다.\".format(...))\n",
    "        coffee = ...\n",
    "    else:\n",
    "        print(\"돈을 다시 돌려주고 커피를 주지 않습니다.\")\n",
    "        print(\"남은 커피의 양은 {}개 입니다.\".format(coffee))\n",
    "    if ...:\n",
    "        print(\"커피가 다 떨어졌습니다. 판매를 중지 합니다.\")\n",
    "        break"
   ]
  },
  {
   "cell_type": "code",
   "execution_count": null,
   "metadata": {},
   "outputs": [],
   "source": []
  }
 ],
 "metadata": {
  "kernelspec": {
   "display_name": "Python 3",
   "language": "python",
   "name": "python3"
  },
  "language_info": {
   "codemirror_mode": {
    "name": "ipython",
    "version": 3
   },
   "file_extension": ".py",
   "mimetype": "text/x-python",
   "name": "python",
   "nbconvert_exporter": "python",
   "pygments_lexer": "ipython3",
   "version": "3.8.5"
  }
 },
 "nbformat": 4,
 "nbformat_minor": 4
}
